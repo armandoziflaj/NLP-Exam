{
 "cells": [
  {
   "cell_type": "code",
   "execution_count": 1,
   "metadata": {},
   "outputs": [],
   "source": [
    "import spacy\n",
    "from nltk.corpus import wordnet\n",
    "import nltk\n",
    "\n",
    "nlp = spacy.load(\"en_core_web_sm\", disable=[\"ner\", \"parser\"])"
   ]
  },
  {
   "cell_type": "code",
   "execution_count": 2,
   "metadata": {},
   "outputs": [],
   "source": [
    "def get_synonym(word):\n",
    "    synonyms = []\n",
    "    for syn in wordnet.synsets(word, pos=wordnet.ADJ):\n",
    "        for lemma in syn.lemmas():\n",
    "            # Αποφεύγουμε το ίδιο το αρχικό λέξη\n",
    "            if lemma.name().lower() != word.lower():\n",
    "                synonyms.append(lemma.name().replace('_', ' '))\n",
    "    if synonyms:\n",
    "        return synonyms[0]  # Παίρνουμε το πρώτο συνώνυμο\n",
    "    else:\n",
    "        return word  # Αν δεν βρεθεί συνώνυμο, επιστρέφουμε την ίδια λέξη"
   ]
  },
  {
   "cell_type": "code",
   "execution_count": 3,
   "metadata": {},
   "outputs": [],
   "source": [
    "def replace_adjectives(sentence):\n",
    "    doc = nlp(sentence)\n",
    "    new_tokens = []\n",
    "    for token in doc:\n",
    "        if token.pos_ == \"ADJ\":\n",
    "            new_word = get_synonym(token.text)\n",
    "            new_tokens.append(new_word)\n",
    "        else:\n",
    "            new_tokens.append(token.text)\n",
    "    return \" \".join(new_tokens)"
   ]
  },
  {
   "cell_type": "code",
   "execution_count": 4,
   "metadata": {},
   "outputs": [
    {
     "name": "stdout",
     "output_type": "stream",
     "text": [
      "Original: Overall, let us make sure all are safe and celebrate the outcome with strong coffee and future targets\n",
      "Modified: Overall , let us make certain all are dependable and celebrate the outcome with potent coffee and next targets\n"
     ]
    }
   ],
   "source": [
    "sentence1 = \"Overall, let us make sure all are safe and celebrate the outcome with strong coffee and future targets\" \n",
    "sentence2 = \"Today is our dragon boat festival, in our Chinese culture, to celebrate it with all safe and great in our lives\"\n",
    "new_sentence1 = replace_adjectives(sentence1)\n",
    "new_sentence2 = replace_adjectives(sentence2)\n",
    "print(\"Original:\", sentence1, sentence2)\n",
    "print(\"Modified:\", new_sentence1, new_sentence2)"
   ]
  },
  {
   "attachments": {},
   "cell_type": "markdown",
   "metadata": {},
   "source": [
    "ΕΡΩΤΗΜΑ 2\n",
    "1ος τροπος "
   ]
  },
  {
   "cell_type": "code",
   "execution_count": 6,
   "metadata": {},
   "outputs": [],
   "source": [
    "import torch\n",
    "from transformers import pipeline\n",
    "\n",
    "from sentence_splitter import SentenceSplitter\n",
    "splitter = SentenceSplitter(language='en')"
   ]
  },
  {
   "cell_type": "code",
   "execution_count": 7,
   "metadata": {},
   "outputs": [
    {
     "name": "stderr",
     "output_type": "stream",
     "text": [
      "Some weights of PegasusForConditionalGeneration were not initialized from the model checkpoint at tuner007/pegasus_paraphrase and are newly initialized: ['model.decoder.embed_positions.weight', 'model.encoder.embed_positions.weight']\n",
      "You should probably TRAIN this model on a down-stream task to be able to use it for predictions and inference.\n",
      "Device set to use cpu\n"
     ]
    },
    {
     "data": {
      "text/plain": [
       "'Today is our dragon boat festival, in our Chinese culture, to celebrate it with all safe and great in our lives. Hope you too, to enjoy it as my deepest wishes. Thank your message to show our words to the doctor, as his next contract checking, to all of us. I got this message to see the approved message. In fact, I have received the message from the professor, to show me, this, a couple of days ago. I am very appreciated the full support of the professor, for our Springer proceedings publication.'"
      ]
     },
     "execution_count": 7,
     "metadata": {},
     "output_type": "execute_result"
    }
   ],
   "source": [
    "paraphrase_Pegasus_pipeline = pipeline(\"text2text-generation\", model=\"tuner007/pegasus_paraphrase\", device=0 if torch.cuda.is_available() else -1)\n",
    "\n",
    "text1 = \"Today is our dragon boat festival, in our Chinese culture, to celebrate it with all safe and great in our lives. Hope you too, to enjoy it as my deepest wishes. Thank your message to show our words to the doctor, as his next contract checking, to all of us. I got this message to see the approved message. In fact, I have received the message from the professor, to show me, this, a couple of days ago. I am very appreciated the full support of the professor, for our Springer proceedings publication.\"\n",
    "\n",
    "text2 = \"“During our final discuss, I told him about the new submission — the one we were waiting since last autumn, but the updates was confusing as it not included the full feedback from reviewer or maybe editor? Anyway, I believe the team, although bit delay and less communication at recent days, they really tried best for paper and cooperation. We should be grateful, I mean all of us, for the acceptance and efforts until the Springer link came finally last week, I think. Also, kindly remind me please, if the doctor still plan for the acknowledgments section edit before he sending again. Because I didn’t see that part final yet, or maybe I missed, I apologize if so. Overall, let us make sure all are safe and celebrate the outcome with strong coffee and future targets\""
   ]
  },
  {
   "cell_type": "code",
   "execution_count": 9,
   "metadata": {},
   "outputs": [
    {
     "name": "stdout",
     "output_type": "stream",
     "text": [
      "Our Chinese culture has a dragon boat festival that is celebrated today. Hope you enjoy it as much as I did. Your message was appreciated by the doctor, as his next contract check, to all of us. I saw the approved message after getting this message. I received the message from the professor a couple of days ago. The professor supported the Springer proceedings publication.\n",
      "I told him about the new submission we were waiting for, but the updates were confusing as they didn't include the full feedback from the reviewer or editor. I think the team tried their best for paper and cooperation despite the recent delay and less communication. We should be thankful for the acceptance and efforts until the Springer link came last week, I think. If the doctor still plans for the acknowledgments section to be edited before he sends again, please remind me. I apologize if I missed that part final. Let's make sure all are safe and celebrate the outcome with coffee and targets.\n"
     ]
    }
   ],
   "source": [
    "splitter = SentenceSplitter(language='en')\n",
    "sentence_list1 = splitter.split(text1)\n",
    "sentence_list2 = splitter.split(text2)\n",
    "\n",
    "paraphrased_sentences1 = paraphrase_Pegasus_pipeline(sentence_list1, max_length=60, num_return_sequences=1)\n",
    "paraphrased_sentences2 = paraphrase_Pegasus_pipeline(sentence_list2, max_length=60, num_return_sequences=1)\n",
    "paraphrased_text1 = \" \".join([result['generated_text'] for result in paraphrased_sentences1])\n",
    "paraphrased_text2 = \" \".join([result['generated_text'] for result in paraphrased_sentences2])\n",
    "\n",
    "print(paraphrased_text1)\n",
    "print(paraphrased_text2)\n"
   ]
  }
 ],
 "metadata": {
  "kernelspec": {
   "display_name": "Python 3",
   "language": "python",
   "name": "python3"
  },
  "language_info": {
   "codemirror_mode": {
    "name": "ipython",
    "version": 3
   },
   "file_extension": ".py",
   "mimetype": "text/x-python",
   "name": "python",
   "nbconvert_exporter": "python",
   "pygments_lexer": "ipython3",
   "version": "3.11.2"
  },
  "orig_nbformat": 4
 },
 "nbformat": 4,
 "nbformat_minor": 2
}
